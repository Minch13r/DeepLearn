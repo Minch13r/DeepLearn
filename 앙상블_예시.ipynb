{
  "nbformat": 4,
  "nbformat_minor": 0,
  "metadata": {
    "colab": {
      "provenance": [],
      "authorship_tag": "ABX9TyMXKz5Bu5ECLeeOD9kWzai7",
      "include_colab_link": true
    },
    "kernelspec": {
      "name": "python3",
      "display_name": "Python 3"
    },
    "language_info": {
      "name": "python"
    }
  },
  "cells": [
    {
      "cell_type": "markdown",
      "metadata": {
        "id": "view-in-github",
        "colab_type": "text"
      },
      "source": [
        "<a href=\"https://colab.research.google.com/github/Minch13r/DeepLearn/blob/main/%EC%95%99%EC%83%81%EB%B8%94_%EC%98%88%EC%8B%9C.ipynb\" target=\"_parent\"><img src=\"https://colab.research.google.com/assets/colab-badge.svg\" alt=\"Open In Colab\"/></a>"
      ]
    },
    {
      "cell_type": "code",
      "execution_count": 11,
      "metadata": {
        "id": "KC9rmiQ8-Oha"
      },
      "outputs": [],
      "source": [
        "# 필요한 라이브러리 임포트\n",
        "import numpy as np\n",
        "from sklearn.datasets import make_classification\n",
        "from sklearn.model_selection import train_test_split\n",
        "from sklearn.ensemble import RandomForestClassifier, GradientBoostingClassifier, VotingClassifier\n",
        "from sklearn.linear_model import LogisticRegression\n",
        "from sklearn.metrics import accuracy_score"
      ]
    },
    {
      "cell_type": "code",
      "source": [
        "# 1. 데이터 생성\n",
        "X, y = make_classification(\n",
        "    n_samples=1000,  # 1000개의 샘플\n",
        "    n_features=20,   # 20개의 특성\n",
        "    n_classes=2,     # 이진 분류\n",
        "    random_state=42\n",
        ")"
      ],
      "metadata": {
        "id": "KEzN7RP8-t7Q"
      },
      "execution_count": 2,
      "outputs": []
    },
    {
      "cell_type": "code",
      "source": [
        "# 2. 데이터 분할\n",
        "X_train, X_test, y_train, y_test = train_test_split(\n",
        "    X, y,\n",
        "    test_size=0.2,   # 테스트 데이터 20%\n",
        "    random_state=42\n",
        ")"
      ],
      "metadata": {
        "id": "c5nt_wMe-uup"
      },
      "execution_count": 3,
      "outputs": []
    },
    {
      "cell_type": "code",
      "source": [
        "# 3. 개별 모델 생성"
      ],
      "metadata": {
        "id": "xeN0wODe-vfR"
      },
      "execution_count": 4,
      "outputs": []
    },
    {
      "cell_type": "code",
      "source": [
        "# 3.1 랜덤 포레스트 모델\n",
        "rf = RandomForestClassifier(\n",
        "    n_estimators=100,    # 트리 100개 사용\n",
        "    random_state=42\n",
        ")"
      ],
      "metadata": {
        "id": "JY0s0eQH-xfh"
      },
      "execution_count": 5,
      "outputs": []
    },
    {
      "cell_type": "code",
      "source": [
        "# 3.2 그래디언트 부스팅 모델\n",
        "gb = GradientBoostingClassifier(\n",
        "    n_estimators=100,    # 트리 100개 사용\n",
        "    random_state=42\n",
        ")"
      ],
      "metadata": {
        "id": "3mEcFJtT-ydb"
      },
      "execution_count": 6,
      "outputs": []
    },
    {
      "cell_type": "code",
      "source": [
        "# 3.3 로지스틱 회귀 모델\n",
        "lr = LogisticRegression(random_state=42)"
      ],
      "metadata": {
        "id": "KuXJfTC9-0-D"
      },
      "execution_count": 7,
      "outputs": []
    },
    {
      "cell_type": "code",
      "source": [
        "# 4. 보팅 앙상블 모델 생성\n",
        "voting_clf = VotingClassifier(\n",
        "    estimators=[\n",
        "        ('rf', rf),          # 랜덤 포레스트\n",
        "        ('gb', gb),          # 그래디언트 부스팅\n",
        "        ('lr', lr)           # 로지스틱 회귀\n",
        "    ],\n",
        "    voting='soft'    # 확률 기반 보팅\n",
        ")"
      ],
      "metadata": {
        "id": "Dnls9fca-19_"
      },
      "execution_count": 8,
      "outputs": []
    },
    {
      "cell_type": "code",
      "source": [
        "# 5. 모델 학습 및 평가를 위한 딕셔너리 생성\n",
        "models = {\n",
        "    'Random Forest': rf,\n",
        "    'Gradient Boosting': gb,\n",
        "    'Logistic Regression': lr,\n",
        "    'Voting Ensemble': voting_clf\n",
        "}\n"
      ],
      "metadata": {
        "id": "pXTC_vP0-3HJ"
      },
      "execution_count": 9,
      "outputs": []
    },
    {
      "cell_type": "code",
      "source": [
        "# 6. 각 모델 학습 및 평가\n",
        "for name, model in models.items():\n",
        "    # 모델 학습\n",
        "    model.fit(X_train, y_train)\n",
        "\n",
        "    # 예측\n",
        "    y_pred = model.predict(X_test)\n",
        "\n",
        "    # 정확도 계산\n",
        "    accuracy = accuracy_score(y_test, y_pred)\n",
        "    print(f\"{name} 정확도: {accuracy:.4f}\")"
      ],
      "metadata": {
        "colab": {
          "base_uri": "https://localhost:8080/"
        },
        "id": "X_9ssFtH-4i5",
        "outputId": "729ba4e4-8e62-4993-aacd-9bcbaf1a69f1"
      },
      "execution_count": 12,
      "outputs": [
        {
          "output_type": "stream",
          "name": "stdout",
          "text": [
            "Random Forest 정확도: 0.9000\n",
            "Gradient Boosting 정확도: 0.9150\n",
            "Logistic Regression 정확도: 0.8550\n",
            "Voting Ensemble 정확도: 0.8900\n"
          ]
        }
      ]
    },
    {
      "cell_type": "code",
      "source": [
        "# 7. 실제 예측 예시\n",
        "# 테스트 데이터의 첫 번째 샘플로 예측해보기\n",
        "sample = X_test[0].reshape(1, -1)\n",
        "for name, model in models.items():\n",
        "    prediction = model.predict(sample)\n",
        "    probability = model.predict_proba(sample)\n",
        "    print(f\"\\n{name}:\")\n",
        "    print(f\"예측 클래스: {prediction[0]}\")\n",
        "    print(f\"클래스별 확률: {probability[0]}\")"
      ],
      "metadata": {
        "colab": {
          "base_uri": "https://localhost:8080/"
        },
        "id": "_uWgKiXr-5X_",
        "outputId": "4bbb6083-0ea5-4d02-d3b8-3739b055989c"
      },
      "execution_count": 13,
      "outputs": [
        {
          "output_type": "stream",
          "name": "stdout",
          "text": [
            "\n",
            "Random Forest:\n",
            "예측 클래스: 1\n",
            "클래스별 확률: [0.25 0.75]\n",
            "\n",
            "Gradient Boosting:\n",
            "예측 클래스: 1\n",
            "클래스별 확률: [0.13416474 0.86583526]\n",
            "\n",
            "Logistic Regression:\n",
            "예측 클래스: 1\n",
            "클래스별 확률: [0.35111201 0.64888799]\n",
            "\n",
            "Voting Ensemble:\n",
            "예측 클래스: 1\n",
            "클래스별 확률: [0.24509225 0.75490775]\n"
          ]
        }
      ]
    }
  ]
}